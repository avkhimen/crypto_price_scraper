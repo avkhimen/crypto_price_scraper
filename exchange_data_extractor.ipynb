{
 "cells": [
  {
   "cell_type": "code",
   "execution_count": 110,
   "metadata": {},
   "outputs": [],
   "source": [
    "import numpy as np\n",
    "import pandas as pd\n",
    "from tqdm.notebook import tqdm\n",
    "import tpot\n",
    "import requests\n",
    "import json\n",
    "from pprint import pprint\n",
    "import time"
   ]
  },
  {
   "cell_type": "code",
   "execution_count": 150,
   "metadata": {},
   "outputs": [],
   "source": [
    "#asset_pair = 'BTC-USD'\n",
    "#asset_pair = 'ETH-USD'\n",
    "#asset_pair = 'ETH-BTC'\n",
    "#asset_pair = 'XRP-BTC'\n",
    "#asset_pair = 'XRP-USD'\n",
    "#asset_pair = 'LTC-USD'\n",
    "asset_pair = 'LTC-BTC'"
   ]
  },
  {
   "cell_type": "code",
   "execution_count": null,
   "metadata": {},
   "outputs": [],
   "source": [
    "interval = 'MINUTE_5'"
   ]
  },
  {
   "cell_type": "code",
   "execution_count": 151,
   "metadata": {},
   "outputs": [],
   "source": [
    "req_str = 'https://api.bittrex.com/v3/markets/BTC-USD/candles/trade/MINUTE_5/historical/2018/10/01'"
   ]
  },
  {
   "cell_type": "code",
   "execution_count": 152,
   "metadata": {},
   "outputs": [],
   "source": [
    "r = requests.get(req_str)\n",
    "rjs = json.loads(r.text)"
   ]
  },
  {
   "cell_type": "code",
   "execution_count": 153,
   "metadata": {},
   "outputs": [
    {
     "data": {
      "text/plain": [
       "'2018-10-01 00:00:00'"
      ]
     },
     "execution_count": 153,
     "metadata": {},
     "output_type": "execute_result"
    }
   ],
   "source": [
    "rjs[0]['startsAt'][:10] + ' ' + rjs[0]['startsAt'][-9:-1]"
   ]
  },
  {
   "cell_type": "code",
   "execution_count": 154,
   "metadata": {},
   "outputs": [],
   "source": [
    "asset_pair_hist_data = []"
   ]
  },
  {
   "cell_type": "code",
   "execution_count": 155,
   "metadata": {
    "scrolled": true
   },
   "outputs": [
    {
     "data": {
      "application/vnd.jupyter.widget-view+json": {
       "model_id": "f1a0ff80d8fb44fb8a64edfb7abe1216",
       "version_major": 2,
       "version_minor": 0
      },
      "text/plain": [
       "HBox(children=(FloatProgress(value=0.0, max=4.0), HTML(value='')))"
      ]
     },
     "metadata": {},
     "output_type": "display_data"
    },
    {
     "name": "stdout",
     "output_type": "stream",
     "text": [
      "\n"
     ]
    }
   ],
   "source": [
    "for year in tqdm(range(2017, 2021)):\n",
    "    for month in range(1,13):\n",
    "        for day in range(1,32):\n",
    "            try:\n",
    "                req_str = 'https://api.bittrex.com/v3/markets/' + asset_pair \\\n",
    "                + '/candles/trade/' \\\n",
    "                + interval \\\n",
    "                + '/historical/' \\\n",
    "                + str(year) \\\n",
    "                + '/' \\\n",
    "                + str(month) \\\n",
    "                + '/' \\\n",
    "                + str(day)\n",
    "                r = requests.get(req_str)\n",
    "                rjs = json.loads(r.text)\n",
    "                if rjs:\n",
    "                    for item in rjs:\n",
    "                        single_pull_data = {}\n",
    "                        single_pull_data['date'] = item['startsAt'][:10] + ' ' + item['startsAt'][-9:-1]\n",
    "                        single_pull_data['open'] = item['open']\n",
    "                        single_pull_data['high'] = item['high']\n",
    "                        single_pull_data['low'] = item['low']\n",
    "                        single_pull_data['close'] = item['close']\n",
    "                        single_pull_data['volume'] = item['volume']\n",
    "                        single_pull_data['quoteVolume'] = item['quoteVolume']\n",
    "                    #if bool(single_pull_data):\n",
    "                        asset_pair_hist_data.append(single_pull_data)\n",
    "            except Exception as e:\n",
    "                continue\n",
    "            finally:\n",
    "                time.sleep(0.01)\n",
    "asset_pair_hist_data_np = np.array(asset_pair_hist_data)\n",
    "np.save('data/' + 'hist_data_' + asset_pair + '.npy', asset_pair_hist_data_np, allow_pickle = True)"
   ]
  },
  {
   "cell_type": "code",
   "execution_count": null,
   "metadata": {},
   "outputs": [],
   "source": [
    "for ii, item in enumerate(d):\n",
    "    print(ii, item)"
   ]
  },
  {
   "cell_type": "code",
   "execution_count": 156,
   "metadata": {},
   "outputs": [],
   "source": [
    "d = np.load('data/hist_data_' + asset_pair + '.npy', allow_pickle = True)"
   ]
  },
  {
   "cell_type": "code",
   "execution_count": null,
   "metadata": {},
   "outputs": [],
   "source": [
    "#https://api.bittrex.com/v3/markets/LTC-BTC/orderbook"
   ]
  },
  {
   "cell_type": "code",
   "execution_count": null,
   "metadata": {},
   "outputs": [],
   "source": [
    "#https://api.bittrex.com/v3/markets/BTC-USD/candles/trade/MINUTE_5/recent"
   ]
  }
 ],
 "metadata": {
  "kernelspec": {
   "display_name": "Python 3",
   "language": "python",
   "name": "python3"
  },
  "language_info": {
   "codemirror_mode": {
    "name": "ipython",
    "version": 3
   },
   "file_extension": ".py",
   "mimetype": "text/x-python",
   "name": "python",
   "nbconvert_exporter": "python",
   "pygments_lexer": "ipython3",
   "version": "3.8.8"
  }
 },
 "nbformat": 4,
 "nbformat_minor": 2
}
